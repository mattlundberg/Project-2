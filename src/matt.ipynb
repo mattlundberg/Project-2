{
 "cells": [
  {
   "cell_type": "markdown",
   "metadata": {},
   "source": [
    "# Matt's Code Playground"
   ]
  },
  {
   "cell_type": "code",
   "execution_count": 1,
   "metadata": {},
   "outputs": [],
   "source": [
    "# Standard library imports\n",
    "import os\n",
    "import sys\n",
    "\n",
    "# Data manipulation and analysis\n",
    "import numpy as np\n",
    "import pandas as pd\n",
    "\n",
    "# Custom helper classes\n",
    "from modelhelper import ModelHelper\n",
    "model_helper = ModelHelper()"
   ]
  },
  {
   "cell_type": "code",
   "execution_count": 2,
   "metadata": {},
   "outputs": [
    {
     "name": "stderr",
     "output_type": "stream",
     "text": [
      "INFO:modelhelper:Starting flight delay model training process...\n",
      "INFO:modelhelper:Step 1: Fetching and preparing the dataset...\n",
      "INFO:modelhelper:Using original saved flight dataset\n",
      "INFO:modelhelper:Using saved flight dataset\n",
      "INFO:modelhelper:Dataset shape: (3516114, 7)\n",
      "INFO:modelhelper:Step 2: Preparing features and target...\n",
      "INFO:modelhelper:Features being used: ['AIRLINE', 'ORIGIN', 'DAY_OF_YEAR', 'TOTAL_DELAY', 'DELAY_VARIANCE', 'HISTORICAL_DELAY']\n",
      "INFO:modelhelper:Step 3: Splitting data into train/test sets (test_size=0.2)...\n",
      "INFO:modelhelper:Training set shape: (2812891, 6)\n",
      "INFO:modelhelper:Test set shape: (703223, 6)\n",
      "INFO:modelhelper:Step 4: Preprocessing features...\n",
      "INFO:modelhelper:Step 5: Training random_forest model...\n",
      "INFO:modelhelper:Model successfully loaded from models\\random_forest_flight_delay_model.pkl\n",
      "INFO:modelhelper:Model random_forest already trained and loaded. Using the loaded model...\n",
      "INFO:modelhelper:Step 6: Evaluating model performance...\n",
      "INFO:modelhelper:\n",
      "Model Evaluation Results:\n",
      "INFO:modelhelper:Accuracy: 0.7708\n",
      "INFO:modelhelper:Precision: 0.7877\n",
      "INFO:modelhelper:Recall: 0.7708\n",
      "INFO:modelhelper:F1: 0.7749\n",
      "INFO:modelhelper:Step 7: Saving the trained model as 'random_forest_flight_delay_model.pkl'...\n",
      "INFO:modelhelper:Model successfully saved to models\\random_forest_flight_delay_model.pkl\n",
      "INFO:modelhelper:\n",
      "Model training process completed successfully!\n"
     ]
    }
   ],
   "source": [
    "model = model_helper.train_flight_delay_model('random_forest')"
   ]
  },
  {
   "cell_type": "code",
   "execution_count": 6,
   "metadata": {},
   "outputs": [
    {
     "data": {
      "text/plain": [
       "(RandomForestClassifier(class_weight='balanced_subsample', max_depth=10,\n",
       "                        min_samples_leaf=20, min_samples_split=50,\n",
       "                        n_estimators=200, n_jobs=-1, oob_score=True,\n",
       "                        random_state=32),\n",
       " {'accuracy': 0.7707796815519401,\n",
       "  'precision': 0.7877001806991136,\n",
       "  'recall': 0.7707796815519401,\n",
       "  'f1': 0.7748977781464175})"
      ]
     },
     "metadata": {},
     "output_type": "display_data"
    },
    {
     "name": "stderr",
     "output_type": "stream",
     "text": [
      "INFO:modelhelper:Airline: American Airlines Inc., Airport: DFW, Total delay: 17.704347826086956\n",
      "INFO:modelhelper:Prediction probabilities: {'Delayed': 0.4514040948412665, 'Early': 0.22988166204401023, 'On Time': 0.3187142431147465}\n"
     ]
    },
    {
     "name": "stdout",
     "output_type": "stream",
     "text": [
      "Airline: American Airlines Inc., Date: 2024-12-23, Origin: DFW -> Prediction: Delayed\n"
     ]
    },
    {
     "name": "stderr",
     "output_type": "stream",
     "text": [
      "INFO:modelhelper:Airline: Delta Air Lines Inc., Airport: ATL, Total delay: 13.839344262295082\n",
      "INFO:modelhelper:Prediction probabilities: {'Delayed': 0.45162411238138683, 'Early': 0.23380394996104578, 'On Time': 0.3145719376575903}\n"
     ]
    },
    {
     "name": "stdout",
     "output_type": "stream",
     "text": [
      "Airline: Delta Air Lines Inc., Date: 2024-12-22, Origin: ATL -> Prediction: Delayed\n"
     ]
    },
    {
     "name": "stderr",
     "output_type": "stream",
     "text": [
      "INFO:modelhelper:Airline: United Air Lines Inc., Airport: ORD, Total delay: 27.585714285714282\n",
      "INFO:modelhelper:Prediction probabilities: {'Delayed': 0.45140409484126637, 'Early': 0.22988166204401025, 'On Time': 0.31871424311474655}\n"
     ]
    },
    {
     "name": "stdout",
     "output_type": "stream",
     "text": [
      "Airline: United Air Lines Inc., Date: 2024-12-24, Origin: ORD -> Prediction: Delayed\n"
     ]
    },
    {
     "name": "stderr",
     "output_type": "stream",
     "text": [
      "INFO:modelhelper:Airline: Southwest Airlines Co., Airport: MDW, Total delay: 16.39230769230769\n",
      "INFO:modelhelper:Prediction probabilities: {'Delayed': 0.4516499964602725, 'Early': 0.23444542896806855, 'On Time': 0.31390457457168186}\n"
     ]
    },
    {
     "name": "stdout",
     "output_type": "stream",
     "text": [
      "Airline: Southwest Airlines Co., Date: 2024-12-26, Origin: MDW -> Prediction: Delayed\n"
     ]
    },
    {
     "name": "stderr",
     "output_type": "stream",
     "text": [
      "INFO:modelhelper:Airline: JetBlue Airways, Airport: JFK, Total delay: 12.15\n",
      "INFO:modelhelper:Prediction probabilities: {'Delayed': 0.4514040948412663, 'Early': 0.22988166204401025, 'On Time': 0.3187142431147465}\n"
     ]
    },
    {
     "name": "stdout",
     "output_type": "stream",
     "text": [
      "Airline: JetBlue Airways, Date: 2024-12-28, Origin: JFK -> Prediction: Delayed\n"
     ]
    },
    {
     "name": "stderr",
     "output_type": "stream",
     "text": [
      "INFO:modelhelper:Airline: Southwest Airlines Co., Airport: MSY, Total delay: 10.633333333333333\n",
      "INFO:modelhelper:Prediction probabilities: {'Delayed': 0.4515477730314702, 'Early': 0.23444542896806853, 'On Time': 0.31400679800048414}\n"
     ]
    },
    {
     "name": "stdout",
     "output_type": "stream",
     "text": [
      "Airline: Southwest Airlines Co., Date: 2024-03-08, Origin: MSY -> Prediction: Delayed\n"
     ]
    },
    {
     "name": "stderr",
     "output_type": "stream",
     "text": [
      "INFO:modelhelper:Airline: American Airlines Inc., Airport: DCA, Total delay: 5.45\n",
      "INFO:modelhelper:Prediction probabilities: {'Delayed': 0.4514040948412664, 'Early': 0.22988166204401025, 'On Time': 0.3187142431147466}\n"
     ]
    },
    {
     "name": "stdout",
     "output_type": "stream",
     "text": [
      "Airline: American Airlines Inc., Date: 2024-03-23, Origin: DCA -> Prediction: Delayed\n"
     ]
    },
    {
     "name": "stderr",
     "output_type": "stream",
     "text": [
      "INFO:modelhelper:Airline: Delta Air Lines Inc., Airport: AUS, Total delay: 19.6\n",
      "INFO:modelhelper:Prediction probabilities: {'Delayed': 0.4514040948412664, 'Early': 0.22988166204401025, 'On Time': 0.31871424311474655}\n"
     ]
    },
    {
     "name": "stdout",
     "output_type": "stream",
     "text": [
      "Airline: Delta Air Lines Inc., Date: 2024-04-19, Origin: AUS -> Prediction: Delayed\n"
     ]
    },
    {
     "name": "stderr",
     "output_type": "stream",
     "text": [
      "INFO:modelhelper:Airline: United Air Lines Inc., Airport: CVG, Total delay: 12.528345802161263\n",
      "INFO:modelhelper:Prediction probabilities: {'Delayed': 0.4514040948412664, 'Early': 0.22988166204401017, 'On Time': 0.3187142431147465}\n"
     ]
    },
    {
     "name": "stdout",
     "output_type": "stream",
     "text": [
      "Airline: United Air Lines Inc., Date: 2024-05-03, Origin: CVG -> Prediction: Delayed\n"
     ]
    },
    {
     "name": "stderr",
     "output_type": "stream",
     "text": [
      "INFO:modelhelper:Airline: JetBlue Airways, Airport: SAN, Total delay: nan\n",
      "INFO:modelhelper:Prediction probabilities: {'Delayed': 0.2714418143032307, 'Early': 0.2699098276140846, 'On Time': 0.458648358082708}\n"
     ]
    },
    {
     "name": "stdout",
     "output_type": "stream",
     "text": [
      "Airline: JetBlue Airways, Date: 2024-05-15, Origin: SAN -> Prediction: On Time\n"
     ]
    },
    {
     "name": "stderr",
     "output_type": "stream",
     "text": [
      "INFO:modelhelper:Airline: Alaska Airlines Inc., Airport: ANC, Total delay: nan\n",
      "INFO:modelhelper:Prediction probabilities: {'Delayed': 0.3209241548413991, 'Early': 0.2674965630846096, 'On Time': 0.4115792820740122}\n"
     ]
    },
    {
     "name": "stdout",
     "output_type": "stream",
     "text": [
      "Airline: Alaska Airlines Inc., Date: 2024-07-03, Origin: ANC -> Prediction: On Time\n"
     ]
    },
    {
     "name": "stderr",
     "output_type": "stream",
     "text": [
      "INFO:modelhelper:Airline: Hawaiian Airlines Inc., Airport: HNL, Total delay: 6.25\n",
      "INFO:modelhelper:Prediction probabilities: {'Delayed': 0.45188071197892526, 'Early': 0.23444542896806855, 'On Time': 0.3136738590530292}\n"
     ]
    },
    {
     "name": "stdout",
     "output_type": "stream",
     "text": [
      "Airline: Hawaiian Airlines Inc., Date: 2024-07-15, Origin: HNL -> Prediction: Delayed\n"
     ]
    },
    {
     "name": "stderr",
     "output_type": "stream",
     "text": [
      "INFO:modelhelper:Airline: Spirit Air Lines, Airport: MCO, Total delay: 14.26\n",
      "INFO:modelhelper:Prediction probabilities: {'Delayed': 0.4514040948412665, 'Early': 0.22988166204401025, 'On Time': 0.31871424311474655}\n"
     ]
    },
    {
     "name": "stdout",
     "output_type": "stream",
     "text": [
      "Airline: Spirit Air Lines, Date: 2024-08-01, Origin: MCO -> Prediction: Delayed\n"
     ]
    },
    {
     "name": "stderr",
     "output_type": "stream",
     "text": [
      "INFO:modelhelper:Airline: Frontier Airlines Inc., Airport: LAS, Total delay: 11.7\n",
      "INFO:modelhelper:Prediction probabilities: {'Delayed': 0.4514040948412664, 'Early': 0.22988166204401023, 'On Time': 0.3187142431147465}\n"
     ]
    },
    {
     "name": "stdout",
     "output_type": "stream",
     "text": [
      "Airline: Frontier Airlines Inc., Date: 2024-08-15, Origin: LAS -> Prediction: Delayed\n"
     ]
    },
    {
     "name": "stderr",
     "output_type": "stream",
     "text": [
      "INFO:modelhelper:Airline: American Airlines Inc., Airport: MIA, Total delay: 10.355555555555554\n",
      "INFO:modelhelper:Prediction probabilities: {'Delayed': 0.4514040948412665, 'Early': 0.22988166204401025, 'On Time': 0.3187142431147466}\n"
     ]
    },
    {
     "name": "stdout",
     "output_type": "stream",
     "text": [
      "Airline: American Airlines Inc., Date: 2024-08-30, Origin: MIA -> Prediction: Delayed\n"
     ]
    },
    {
     "name": "stderr",
     "output_type": "stream",
     "text": [
      "INFO:modelhelper:Airline: Delta Air Lines Inc., Airport: SEA, Total delay: 7.866666666666667\n",
      "INFO:modelhelper:Prediction probabilities: {'Delayed': 0.4514040948412664, 'Early': 0.22988166204401025, 'On Time': 0.3187142431147465}\n"
     ]
    },
    {
     "name": "stdout",
     "output_type": "stream",
     "text": [
      "Airline: Delta Air Lines Inc., Date: 2024-09-16, Origin: SEA -> Prediction: Delayed\n"
     ]
    },
    {
     "name": "stderr",
     "output_type": "stream",
     "text": [
      "INFO:modelhelper:Airline: United Air Lines Inc., Airport: SFO, Total delay: 9.4\n",
      "INFO:modelhelper:Prediction probabilities: {'Delayed': 0.4514040948412665, 'Early': 0.22988166204401023, 'On Time': 0.31871424311474655}\n"
     ]
    },
    {
     "name": "stdout",
     "output_type": "stream",
     "text": [
      "Airline: United Air Lines Inc., Date: 2024-09-23, Origin: SFO -> Prediction: Delayed\n"
     ]
    },
    {
     "name": "stderr",
     "output_type": "stream",
     "text": [
      "INFO:modelhelper:Airline: American Airlines Inc., Airport: BOS, Total delay: 9.0\n",
      "INFO:modelhelper:Prediction probabilities: {'Delayed': 0.4514040948412664, 'Early': 0.22988166204401025, 'On Time': 0.3187142431147465}\n"
     ]
    },
    {
     "name": "stdout",
     "output_type": "stream",
     "text": [
      "Airline: American Airlines Inc., Date: 2024-10-01, Origin: BOS -> Prediction: Delayed\n"
     ]
    },
    {
     "name": "stderr",
     "output_type": "stream",
     "text": [
      "INFO:modelhelper:Airline: JetBlue Airways, Airport: IAD, Total delay: 10.788844621513945\n",
      "INFO:modelhelper:Prediction probabilities: {'Delayed': 0.4516241123813867, 'Early': 0.2338039499610458, 'On Time': 0.31457193765759034}\n"
     ]
    },
    {
     "name": "stdout",
     "output_type": "stream",
     "text": [
      "Airline: JetBlue Airways, Date: 2024-10-15, Origin: IAD -> Prediction: Delayed\n"
     ]
    },
    {
     "name": "stderr",
     "output_type": "stream",
     "text": [
      "INFO:modelhelper:Airline: Southwest Airlines Co., Airport: HOU, Total delay: 9.977777777777778\n",
      "INFO:modelhelper:Prediction probabilities: {'Delayed': 0.45164999646027254, 'Early': 0.23444542896806855, 'On Time': 0.3139045745716818}\n"
     ]
    },
    {
     "name": "stdout",
     "output_type": "stream",
     "text": [
      "Airline: Southwest Airlines Co., Date: 2024-11-05, Origin: HOU -> Prediction: Delayed\n"
     ]
    },
    {
     "name": "stderr",
     "output_type": "stream",
     "text": [
      "INFO:modelhelper:Airline: American Airlines Inc., Airport: PHL, Total delay: 16.866666666666667\n",
      "INFO:modelhelper:Prediction probabilities: {'Delayed': 0.4514040948412664, 'Early': 0.22988166204401023, 'On Time': 0.31871424311474655}\n"
     ]
    },
    {
     "name": "stdout",
     "output_type": "stream",
     "text": [
      "Airline: American Airlines Inc., Date: 2024-09-08, Origin: PHL -> Prediction: Delayed\n"
     ]
    },
    {
     "name": "stderr",
     "output_type": "stream",
     "text": [
      "INFO:modelhelper:Airline: Delta Air Lines Inc., Airport: STL, Total delay: 3.8\n",
      "INFO:modelhelper:Prediction probabilities: {'Delayed': 0.4514040948412664, 'Early': 0.22988166204401025, 'On Time': 0.3187142431147465}\n"
     ]
    },
    {
     "name": "stdout",
     "output_type": "stream",
     "text": [
      "Airline: Delta Air Lines Inc., Date: 2024-10-25, Origin: STL -> Prediction: Delayed\n"
     ]
    },
    {
     "name": "stderr",
     "output_type": "stream",
     "text": [
      "INFO:modelhelper:Airline: United Air Lines Inc., Airport: DTW, Total delay: nan\n",
      "INFO:modelhelper:Prediction probabilities: {'Delayed': 0.2714418143032307, 'Early': 0.26990982761408466, 'On Time': 0.4586483580827081}\n"
     ]
    },
    {
     "name": "stdout",
     "output_type": "stream",
     "text": [
      "Airline: United Air Lines Inc., Date: 2024-11-28, Origin: DTW -> Prediction: On Time\n"
     ]
    },
    {
     "name": "stderr",
     "output_type": "stream",
     "text": [
      "INFO:modelhelper:Airline: Southwest Airlines Co., Airport: CLT, Total delay: nan\n",
      "INFO:modelhelper:Prediction probabilities: {'Delayed': 0.27168771592223684, 'Early': 0.274473594538143, 'On Time': 0.4538386895396433}\n"
     ]
    },
    {
     "name": "stdout",
     "output_type": "stream",
     "text": [
      "Airline: Southwest Airlines Co., Date: 2024-12-07, Origin: CLT -> Prediction: On Time\n"
     ]
    },
    {
     "name": "stderr",
     "output_type": "stream",
     "text": [
      "INFO:modelhelper:Airline: JetBlue Airways, Airport: BUF, Total delay: 4.0\n",
      "INFO:modelhelper:Prediction probabilities: {'Delayed': 0.4514040948412666, 'Early': 0.22988166204401025, 'On Time': 0.3187142431147465}\n"
     ]
    },
    {
     "name": "stdout",
     "output_type": "stream",
     "text": [
      "Airline: JetBlue Airways, Date: 2024-01-20, Origin: BUF -> Prediction: Delayed\n"
     ]
    },
    {
     "name": "stderr",
     "output_type": "stream",
     "text": [
      "INFO:modelhelper:Airline: United Air Lines Inc., Airport: MSP, Total delay: 19.0\n",
      "INFO:modelhelper:Prediction probabilities: {'Delayed': 0.4514040948412665, 'Early': 0.22988166204401025, 'On Time': 0.3187142431147465}\n"
     ]
    },
    {
     "name": "stdout",
     "output_type": "stream",
     "text": [
      "Airline: United Air Lines Inc., Date: 2024-02-15, Origin: MSP -> Prediction: Delayed\n"
     ]
    },
    {
     "name": "stderr",
     "output_type": "stream",
     "text": [
      "INFO:modelhelper:Airline: American Airlines Inc., Airport: BDL, Total delay: nan\n",
      "INFO:modelhelper:Prediction probabilities: {'Delayed': 0.2714418143032307, 'Early': 0.26990982761408466, 'On Time': 0.4586483580827081}\n"
     ]
    },
    {
     "name": "stdout",
     "output_type": "stream",
     "text": [
      "Airline: American Airlines Inc., Date: 2024-02-01, Origin: BDL -> Prediction: On Time\n"
     ]
    },
    {
     "name": "stderr",
     "output_type": "stream",
     "text": [
      "INFO:modelhelper:Airline: Delta Air Lines Inc., Airport: PWM, Total delay: nan\n",
      "INFO:modelhelper:Prediction probabilities: {'Delayed': 0.27261992781143923, 'Early': 0.26990982761408466, 'On Time': 0.4574702445744995}\n"
     ]
    },
    {
     "name": "stdout",
     "output_type": "stream",
     "text": [
      "Airline: Delta Air Lines Inc., Date: 2024-01-10, Origin: PWM -> Prediction: On Time\n"
     ]
    },
    {
     "name": "stderr",
     "output_type": "stream",
     "text": [
      "INFO:modelhelper:Airline: Southwest Airlines Co., Airport: MKE, Total delay: 13.8\n",
      "INFO:modelhelper:Prediction probabilities: {'Delayed': 0.45164999646027243, 'Early': 0.23444542896806853, 'On Time': 0.31390457457168186}\n"
     ]
    },
    {
     "name": "stdout",
     "output_type": "stream",
     "text": [
      "Airline: Southwest Airlines Co., Date: 2024-02-20, Origin: MKE -> Prediction: Delayed\n"
     ]
    },
    {
     "name": "stderr",
     "output_type": "stream",
     "text": [
      "INFO:modelhelper:Airline: Southwest Airlines Co., Airport: MDW, Total delay: 6.6\n",
      "INFO:modelhelper:Prediction probabilities: {'Delayed': 0.4516499964602725, 'Early': 0.23444542896806853, 'On Time': 0.3139045745716818}\n"
     ]
    },
    {
     "name": "stdout",
     "output_type": "stream",
     "text": [
      "Airline: Southwest Airlines Co., Date: 2024-01-16, Origin: MDW -> Prediction: Delayed\n"
     ]
    },
    {
     "name": "stderr",
     "output_type": "stream",
     "text": [
      "INFO:modelhelper:Airline: Delta Air Lines Inc., Airport: MSP, Total delay: 19.773333333333333\n",
      "INFO:modelhelper:Prediction probabilities: {'Delayed': 0.4514040948412664, 'Early': 0.22988166204401023, 'On Time': 0.3187142431147465}\n"
     ]
    },
    {
     "name": "stdout",
     "output_type": "stream",
     "text": [
      "Airline: Delta Air Lines Inc., Date: 2024-01-17, Origin: MSP -> Prediction: Delayed\n"
     ]
    },
    {
     "name": "stderr",
     "output_type": "stream",
     "text": [
      "INFO:modelhelper:Airline: American Airlines Inc., Airport: DFW, Total delay: 10.961538461538462\n",
      "INFO:modelhelper:Prediction probabilities: {'Delayed': 0.4514040948412665, 'Early': 0.22988166204401028, 'On Time': 0.3187142431147465}\n"
     ]
    },
    {
     "name": "stdout",
     "output_type": "stream",
     "text": [
      "Airline: American Airlines Inc., Date: 2024-01-18, Origin: DFW -> Prediction: Delayed\n"
     ]
    },
    {
     "name": "stderr",
     "output_type": "stream",
     "text": [
      "INFO:modelhelper:Airline: United Air Lines Inc., Airport: EWR, Total delay: 14.285714285714286\n",
      "INFO:modelhelper:Prediction probabilities: {'Delayed': 0.45140409484126637, 'Early': 0.22988166204401023, 'On Time': 0.3187142431147465}\n"
     ]
    },
    {
     "name": "stdout",
     "output_type": "stream",
     "text": [
      "Airline: United Air Lines Inc., Date: 2024-01-22, Origin: EWR -> Prediction: Delayed\n"
     ]
    },
    {
     "name": "stderr",
     "output_type": "stream",
     "text": [
      "INFO:modelhelper:Airline: JetBlue Airways, Airport: BOS, Total delay: 18.14782608695652\n",
      "INFO:modelhelper:Prediction probabilities: {'Delayed': 0.4514040948412664, 'Early': 0.22988166204401025, 'On Time': 0.3187142431147465}\n"
     ]
    },
    {
     "name": "stdout",
     "output_type": "stream",
     "text": [
      "Airline: JetBlue Airways, Date: 2024-01-23, Origin: BOS -> Prediction: Delayed\n"
     ]
    },
    {
     "name": "stderr",
     "output_type": "stream",
     "text": [
      "INFO:modelhelper:Airline: Alaska Airlines Inc., Airport: SEA, Total delay: 9.733333333333333\n",
      "INFO:modelhelper:Prediction probabilities: {'Delayed': 0.47062277458607227, 'Early': 0.2615111638680082, 'On Time': 0.2678660615459409}\n"
     ]
    },
    {
     "name": "stdout",
     "output_type": "stream",
     "text": [
      "Airline: Alaska Airlines Inc., Date: 2024-02-06, Origin: SEA -> Prediction: Delayed\n"
     ]
    },
    {
     "name": "stderr",
     "output_type": "stream",
     "text": [
      "INFO:modelhelper:Airline: Spirit Air Lines, Airport: FLL, Total delay: 13.333333333333334\n",
      "INFO:modelhelper:Prediction probabilities: {'Delayed': 0.4514040948412664, 'Early': 0.22988166204401025, 'On Time': 0.3187142431147465}\n"
     ]
    },
    {
     "name": "stdout",
     "output_type": "stream",
     "text": [
      "Airline: Spirit Air Lines, Date: 2024-02-07, Origin: FLL -> Prediction: Delayed\n"
     ]
    },
    {
     "name": "stderr",
     "output_type": "stream",
     "text": [
      "INFO:modelhelper:Airline: Frontier Airlines Inc., Airport: DEN, Total delay: 18.4\n",
      "INFO:modelhelper:Prediction probabilities: {'Delayed': 0.4514040948412664, 'Early': 0.22988166204401025, 'On Time': 0.3187142431147465}\n"
     ]
    },
    {
     "name": "stdout",
     "output_type": "stream",
     "text": [
      "Airline: Frontier Airlines Inc., Date: 2024-02-08, Origin: DEN -> Prediction: Delayed\n"
     ]
    },
    {
     "name": "stderr",
     "output_type": "stream",
     "text": [
      "INFO:modelhelper:Airline: Hawaiian Airlines Inc., Airport: HNL, Total delay: 9.2\n",
      "INFO:modelhelper:Prediction probabilities: {'Delayed': 0.45188071197892526, 'Early': 0.23444542896806853, 'On Time': 0.31367385905302914}\n"
     ]
    },
    {
     "name": "stdout",
     "output_type": "stream",
     "text": [
      "Airline: Hawaiian Airlines Inc., Date: 2024-02-13, Origin: HNL -> Prediction: Delayed\n"
     ]
    },
    {
     "name": "stderr",
     "output_type": "stream",
     "text": [
      "INFO:modelhelper:Airline: American Airlines Inc., Airport: ORD, Total delay: 14.693333333333333\n",
      "INFO:modelhelper:Prediction probabilities: {'Delayed': 0.4514040948412664, 'Early': 0.22988166204401025, 'On Time': 0.3187142431147465}\n"
     ]
    },
    {
     "name": "stdout",
     "output_type": "stream",
     "text": [
      "Airline: American Airlines Inc., Date: 2024-02-14, Origin: ORD -> Prediction: Delayed\n"
     ]
    },
    {
     "name": "stderr",
     "output_type": "stream",
     "text": [
      "INFO:modelhelper:Airline: Delta Air Lines Inc., Airport: ATL, Total delay: 6.579310344827587\n",
      "INFO:modelhelper:Prediction probabilities: {'Delayed': 0.45162411238138683, 'Early': 0.23380394996104578, 'On Time': 0.3145719376575903}\n"
     ]
    },
    {
     "name": "stdout",
     "output_type": "stream",
     "text": [
      "Airline: Delta Air Lines Inc., Date: 2024-09-17, Origin: ATL -> Prediction: Delayed\n"
     ]
    },
    {
     "name": "stderr",
     "output_type": "stream",
     "text": [
      "INFO:modelhelper:Airline: United Air Lines Inc., Airport: IAH, Total delay: 28.82857142857143\n",
      "INFO:modelhelper:Prediction probabilities: {'Delayed': 0.4514040948412664, 'Early': 0.22988166204401023, 'On Time': 0.31871424311474655}\n"
     ]
    },
    {
     "name": "stdout",
     "output_type": "stream",
     "text": [
      "Airline: United Air Lines Inc., Date: 2024-09-18, Origin: IAH -> Prediction: Delayed\n"
     ]
    },
    {
     "name": "stderr",
     "output_type": "stream",
     "text": [
      "INFO:modelhelper:Airline: Southwest Airlines Co., Airport: BWI, Total delay: 5.971428571428571\n",
      "INFO:modelhelper:Prediction probabilities: {'Delayed': 0.4516499964602725, 'Early': 0.23444542896806853, 'On Time': 0.3139045745716819}\n"
     ]
    },
    {
     "name": "stdout",
     "output_type": "stream",
     "text": [
      "Airline: Southwest Airlines Co., Date: 2024-09-24, Origin: BWI -> Prediction: Delayed\n"
     ]
    },
    {
     "name": "stderr",
     "output_type": "stream",
     "text": [
      "INFO:modelhelper:Airline: JetBlue Airways, Airport: JFK, Total delay: 11.021052631578947\n",
      "INFO:modelhelper:Prediction probabilities: {'Delayed': 0.45140409484126637, 'Early': 0.22988166204401023, 'On Time': 0.3187142431147465}\n"
     ]
    },
    {
     "name": "stdout",
     "output_type": "stream",
     "text": [
      "Airline: JetBlue Airways, Date: 2024-09-25, Origin: JFK -> Prediction: Delayed\n"
     ]
    },
    {
     "name": "stderr",
     "output_type": "stream",
     "text": [
      "INFO:modelhelper:Airline: American Airlines Inc., Airport: PHX, Total delay: 14.0\n",
      "INFO:modelhelper:Prediction probabilities: {'Delayed': 0.4514040948412663, 'Early': 0.22988166204401025, 'On Time': 0.3187142431147465}\n"
     ]
    },
    {
     "name": "stdout",
     "output_type": "stream",
     "text": [
      "Airline: American Airlines Inc., Date: 2024-09-26, Origin: PHX -> Prediction: Delayed\n"
     ]
    },
    {
     "name": "stderr",
     "output_type": "stream",
     "text": [
      "INFO:modelhelper:Airline: United Air Lines Inc., Airport: SFO, Total delay: 6.5\n",
      "INFO:modelhelper:Prediction probabilities: {'Delayed': 0.45140409484126637, 'Early': 0.22988166204401023, 'On Time': 0.3187142431147465}\n"
     ]
    },
    {
     "name": "stdout",
     "output_type": "stream",
     "text": [
      "Airline: United Air Lines Inc., Date: 2024-11-12, Origin: SFO -> Prediction: Delayed\n"
     ]
    },
    {
     "name": "stderr",
     "output_type": "stream",
     "text": [
      "INFO:modelhelper:Airline: Delta Air Lines Inc., Airport: DTW, Total delay: 11.233333333333333\n",
      "INFO:modelhelper:Prediction probabilities: {'Delayed': 0.45140409484126637, 'Early': 0.22988166204401025, 'On Time': 0.3187142431147465}\n"
     ]
    },
    {
     "name": "stdout",
     "output_type": "stream",
     "text": [
      "Airline: Delta Air Lines Inc., Date: 2024-11-13, Origin: DTW -> Prediction: Delayed\n"
     ]
    },
    {
     "name": "stderr",
     "output_type": "stream",
     "text": [
      "INFO:modelhelper:Airline: Southwest Airlines Co., Airport: MCI, Total delay: nan\n",
      "INFO:modelhelper:Prediction probabilities: {'Delayed': 0.2716877159222369, 'Early': 0.2744735945381429, 'On Time': 0.4538386895396434}\n"
     ]
    },
    {
     "name": "stdout",
     "output_type": "stream",
     "text": [
      "Airline: Southwest Airlines Co., Date: 2024-11-14, Origin: MCI -> Prediction: On Time\n"
     ]
    },
    {
     "name": "stderr",
     "output_type": "stream",
     "text": [
      "INFO:modelhelper:Airline: Alaska Airlines Inc., Airport: PDX, Total delay: 5.0\n",
      "INFO:modelhelper:Prediction probabilities: {'Delayed': 0.4702874606427556, 'Early': 0.2615111638680082, 'On Time': 0.2682013754892576}\n"
     ]
    },
    {
     "name": "stdout",
     "output_type": "stream",
     "text": [
      "Airline: Alaska Airlines Inc., Date: 2024-11-19, Origin: PDX -> Prediction: Delayed\n"
     ]
    },
    {
     "name": "stderr",
     "output_type": "stream",
     "text": [
      "INFO:modelhelper:Airline: Spirit Air Lines, Airport: LGA, Total delay: 10.6\n",
      "INFO:modelhelper:Prediction probabilities: {'Delayed': 0.4514040948412664, 'Early': 0.22988166204401025, 'On Time': 0.3187142431147465}\n"
     ]
    },
    {
     "name": "stdout",
     "output_type": "stream",
     "text": [
      "Airline: Spirit Air Lines, Date: 2024-11-12, Origin: LGA -> Prediction: Delayed\n"
     ]
    },
    {
     "name": "stderr",
     "output_type": "stream",
     "text": [
      "INFO:modelhelper:Airline: American Airlines Inc., Airport: CLT, Total delay: 8.3625\n",
      "INFO:modelhelper:Prediction probabilities: {'Delayed': 0.45140409484126637, 'Early': 0.22988166204401025, 'On Time': 0.3187142431147465}\n"
     ]
    },
    {
     "name": "stdout",
     "output_type": "stream",
     "text": [
      "Airline: American Airlines Inc., Date: 2024-12-03, Origin: CLT -> Prediction: Delayed\n"
     ]
    },
    {
     "name": "stderr",
     "output_type": "stream",
     "text": [
      "INFO:modelhelper:Airline: United Air Lines Inc., Airport: DCA, Total delay: nan\n",
      "INFO:modelhelper:Prediction probabilities: {'Delayed': 0.27144181430323067, 'Early': 0.26990982761408466, 'On Time': 0.4586483580827081}\n"
     ]
    },
    {
     "name": "stdout",
     "output_type": "stream",
     "text": [
      "Airline: United Air Lines Inc., Date: 2024-12-04, Origin: DCA -> Prediction: On Time\n"
     ]
    },
    {
     "name": "stderr",
     "output_type": "stream",
     "text": [
      "INFO:modelhelper:Airline: Delta Air Lines Inc., Airport: SLC, Total delay: 8.45\n",
      "INFO:modelhelper:Prediction probabilities: {'Delayed': 0.4514040948412664, 'Early': 0.22988166204401023, 'On Time': 0.3187142431147466}\n"
     ]
    }
   ],
   "source": [
    "display(model)\n",
    "\n",
    "# Test different combinations\n",
    "test_combinations = [\n",
    "    # Holiday Season Travel\n",
    "    ('American Airlines Inc.', '2024-12-23', 'DFW'),  # Christmas Dallas hub\n",
    "    ('Delta Air Lines Inc.', '2024-12-22', 'ATL'),   # Christmas Atlanta hub\n",
    "    ('United Air Lines Inc.', '2024-12-24', 'ORD'),  # Christmas Eve Chicago\n",
    "    ('Southwest Airlines Co.', '2024-12-26', 'MDW'),  # Post-Christmas Chicago\n",
    "    ('JetBlue Airways', '2024-12-28', 'JFK'),        # New Year's NYC\n",
    "    \n",
    "    # Spring Festival Events\n",
    "    ('Southwest Airlines Co.', '2024-03-08', 'MSY'),  # Mardi Gras New Orleans\n",
    "    ('American Airlines Inc.', '2024-03-23', 'DCA'),  # Cherry Blossom DC\n",
    "    ('Delta Air Lines Inc.', '2024-04-19', 'AUS'),   # Austin Music Festival\n",
    "    ('United Air Lines Inc.', '2024-05-03', 'CVG'),  # Kentucky Derby\n",
    "    ('JetBlue Airways', '2024-05-15', 'SAN'),        # San Diego Spring Break\n",
    "    \n",
    "    # Summer Peak Travel\n",
    "    ('Alaska Airlines Inc.', '2024-07-03', 'ANC'),   # Alaska Summer Peak\n",
    "    ('Hawaiian Airlines Inc.', '2024-07-15', 'HNL'), # Hawaii Summer Peak\n",
    "    ('Spirit Air Lines', '2024-08-01', 'MCO'),       # Orlando Theme Parks\n",
    "    ('Frontier Airlines Inc.', '2024-08-15', 'LAS'), # Vegas Summer Heat\n",
    "    ('American Airlines Inc.', '2024-08-30', 'MIA'),  # Labor Day Miami\n",
    "    \n",
    "    # Business Routes\n",
    "    ('Delta Air Lines Inc.', '2024-09-16', 'SEA'),   # Seattle Tech Week\n",
    "    ('United Air Lines Inc.', '2024-09-23', 'SFO'),  # SF Business Week\n",
    "    ('American Airlines Inc.', '2024-10-01', 'BOS'),  # Boston Conference Season\n",
    "    ('JetBlue Airways', '2024-10-15', 'IAD'),        # DC Political Season\n",
    "    ('Southwest Airlines Co.', '2024-11-05', 'HOU'),  # Houston Energy Conference\n",
    "    \n",
    "    # Fall Sports Events\n",
    "    ('American Airlines Inc.', '2024-09-08', 'PHL'),  # NFL Opening Weekend\n",
    "    ('Delta Air Lines Inc.', '2024-10-25', 'STL'),   # World Series Potential\n",
    "    ('United Air Lines Inc.', '2024-11-28', 'DTW'),  # Thanksgiving Football\n",
    "    ('Southwest Airlines Co.', '2024-12-07', 'CLT'),  # College Football Playoff\n",
    "    \n",
    "    # Winter Weather Challenges\n",
    "    ('JetBlue Airways', '2024-01-20', 'BUF'),        # Buffalo Snow Season\n",
    "    ('United Air Lines Inc.', '2024-02-15', 'MSP'),  # Minneapolis Winter\n",
    "    ('American Airlines Inc.', '2024-02-01', 'BDL'),  # Hartford Winter\n",
    "    ('Delta Air Lines Inc.', '2024-01-10', 'PWM'),   # Portland ME Winter\n",
    "    ('Southwest Airlines Co.', '2024-02-20', 'MKE'),  # Milwaukee Winter\n",
    "\n",
    "    # Mid-January (Post-Holiday Lull)\n",
    "    ('Southwest Airlines Co.', '2024-01-16', 'MDW'),  # Chicago Off-Peak\n",
    "    ('Delta Air Lines Inc.', '2024-01-17', 'MSP'),   # Minnesota Quiet Period\n",
    "    ('American Airlines Inc.', '2024-01-18', 'DFW'),  # Dallas Winter Off-Peak\n",
    "    ('United Air Lines Inc.', '2024-01-22', 'EWR'),  # Newark Slow Period\n",
    "    ('JetBlue Airways', '2024-01-23', 'BOS'),        # Boston Winter Off-Peak\n",
    "\n",
    "    # Early February (Pre-Spring Break)\n",
    "    ('Alaska Airlines Inc.', '2024-02-06', 'SEA'),   # Seattle Winter Weekday\n",
    "    ('Spirit Air Lines', '2024-02-07', 'FLL'),       # Florida Off-Season\n",
    "    ('Frontier Airlines Inc.', '2024-02-08', 'DEN'),  # Denver Mid-Week\n",
    "    ('Hawaiian Airlines Inc.', '2024-02-13', 'HNL'),  # Hawaii Low Season\n",
    "    ('American Airlines Inc.', '2024-02-14', 'ORD'),  # Chicago Mid-Week\n",
    "\n",
    "    # Late September (Post-Summer)\n",
    "    ('Delta Air Lines Inc.', '2024-09-17', 'ATL'),   # Atlanta Tuesday\n",
    "    ('United Air Lines Inc.', '2024-09-18', 'IAH'),  # Houston Off-Peak\n",
    "    ('Southwest Airlines Co.', '2024-09-24', 'BWI'),  # Baltimore Mid-Week\n",
    "    ('JetBlue Airways', '2024-09-25', 'JFK'),        # NYC Quiet Period\n",
    "    ('American Airlines Inc.', '2024-09-26', 'PHX'),  # Phoenix Shoulder Season\n",
    "\n",
    "    # Early November (Pre-Holiday)\n",
    "    ('United Air Lines Inc.', '2024-11-12', 'SFO'),  # SF Tuesday\n",
    "    ('Delta Air Lines Inc.', '2024-11-13', 'DTW'),   # Detroit Off-Peak\n",
    "    ('Southwest Airlines Co.', '2024-11-14', 'MCI'),  # Kansas City Quiet\n",
    "    ('Alaska Airlines Inc.', '2024-11-19', 'PDX'),   # Portland Pre-Holiday\n",
    "    ('Spirit Air Lines', '2024-11-12', 'LGA'),       # NYC Tuesday\n",
    "\n",
    "    # Early December (Pre-Holiday Rush)\n",
    "    ('American Airlines Inc.', '2024-12-03', 'CLT'),  # Charlotte Tuesday\n",
    "    ('United Air Lines Inc.', '2024-12-04', 'DCA'),  # DC Mid-Week\n",
    "    ('Delta Air Lines Inc.', '2024-12-10', 'SLC'),   # Salt Lake City Tuesday\n",
    "    ('JetBlue Airways', '2024-12-11', 'TPA'),        # Tampa Off-Peak\n",
    "\n",
    "    # Late January (Deep Winter)\n",
    "    ('Southwest Airlines Co.', '2024-01-29', 'PIT'),  # Pittsburgh Winter\n",
    "    ('American Airlines Inc.', '2024-01-30', 'CLE'),  # Cleveland Off-Peak\n",
    "    ('United Air Lines Inc.', '2024-01-31', 'BNA'),  # Nashville Winter\n",
    "]\n",
    "\n",
    "for airline, date, origin in test_combinations:\n",
    "    prediction = model_helper.predict(airline, date, origin)\n",
    "    print(f\"Airline: {airline}, Date: {date}, Origin: {origin} -> Prediction: {prediction}\")"
   ]
  }
 ],
 "metadata": {
  "kernelspec": {
   "display_name": "base",
   "language": "python",
   "name": "python3"
  },
  "language_info": {
   "codemirror_mode": {
    "name": "ipython",
    "version": 3
   },
   "file_extension": ".py",
   "mimetype": "text/x-python",
   "name": "python",
   "nbconvert_exporter": "python",
   "pygments_lexer": "ipython3",
   "version": "3.12.7"
  }
 },
 "nbformat": 4,
 "nbformat_minor": 2
}
