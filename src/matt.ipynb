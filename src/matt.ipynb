{
 "cells": [
  {
   "cell_type": "markdown",
   "metadata": {},
   "source": [
    "# Matt's Code Playground"
   ]
  },
  {
   "cell_type": "code",
   "execution_count": 1,
   "metadata": {},
   "outputs": [],
   "source": [
    "# Standard library imports\n",
    "import os\n",
    "import sys\n",
    "\n",
    "# Data manipulation and analysis\n",
    "import numpy as np\n",
    "import pandas as pd\n",
    "\n",
    "# Custom helper classes\n",
    "from modelhelper import ModelHelper\n",
    "model_helper = ModelHelper()"
   ]
  },
  {
   "cell_type": "code",
   "execution_count": 2,
   "metadata": {},
   "outputs": [
    {
     "name": "stderr",
     "output_type": "stream",
     "text": [
      "INFO:modelhelper:Starting flight delay model training process...\n",
      "INFO:modelhelper:Step 1: Fetching and preparing the dataset...\n",
      "INFO:modelhelper:Using saved flight dataset\n",
      "INFO:modelhelper:Using saved flight dataset\n",
      "INFO:modelhelper:Dataset shape: (3516114, 12)\n",
      "INFO:modelhelper:Step 2: Preparing features and target...\n",
      "INFO:modelhelper:Features being used: ['AIRLINE', 'ORIGIN', 'DAY_OF_YEAR', 'MONTH', 'DAY_OF_WEEK', 'IS_HOLIDAY', 'TOTAL_DELAY', 'MAX_DELAY', 'DELAY_VARIANCE', 'WEATHER_AND_CARRIER_DELAY', 'HISTORICAL_DELAY']\n",
      "INFO:modelhelper:Step 3: Splitting data into train/test sets (test_size=0.2)...\n",
      "INFO:modelhelper:Training set shape: (2812891, 11)\n",
      "INFO:modelhelper:Test set shape: (703223, 11)\n",
      "INFO:modelhelper:Step 4: Preprocessing features...\n",
      "INFO:modelhelper:Step 5: Training logistic_regression model...\n",
      "INFO:modelhelper:Model successfully loaded from models\\logistic_regression_flight_delay_model.pkl\n",
      "INFO:modelhelper:Training logistic_regression model for classification task\n",
      "INFO:modelhelper:Features: ['AIRLINE', 'ORIGIN', 'DAY_OF_YEAR', 'MONTH', 'DAY_OF_WEEK', 'IS_HOLIDAY', 'TOTAL_DELAY', 'MAX_DELAY', 'DELAY_VARIANCE', 'WEATHER_AND_CARRIER_DELAY', 'HISTORICAL_DELAY']\n",
      "INFO:modelhelper:Target: DELAY_CATEGORY\n",
      "c:\\Users\\matth\\anaconda3\\Lib\\site-packages\\sklearn\\linear_model\\_logistic.py:1247: FutureWarning: 'multi_class' was deprecated in version 1.5 and will be removed in 1.7. From then on, it will always use 'multinomial'. Leave it to its default value to avoid this warning.\n",
      "  warnings.warn(\n"
     ]
    }
   ],
   "source": [
    "model = model_helper.train_flight_delay_model('random_forest')"
   ]
  },
  {
   "cell_type": "code",
   "execution_count": 3,
   "metadata": {},
   "outputs": [
    {
     "data": {
      "text/plain": [
       "(RandomForestClassifier(class_weight='balanced', max_depth=10,\n",
       "                        min_samples_leaf=20, min_samples_split=50,\n",
       "                        n_estimators=200, n_jobs=-1, oob_score=True,\n",
       "                        random_state=32),\n",
       " {'accuracy': 0.766005946904467,\n",
       "  'precision': 0.785259939645473,\n",
       "  'recall': 0.766005946904467,\n",
       "  'f1': 0.7702471688367423})"
      ]
     },
     "metadata": {},
     "output_type": "display_data"
    },
    {
     "name": "stderr",
     "output_type": "stream",
     "text": [
      "INFO:modelhelper:Airline: American Airlines Inc., Airport: DFW, Total delay: 17.704347826086956\n"
     ]
    },
    {
     "ename": "KeyError",
     "evalue": "\"['MONTH', 'DAY_OF_WEEK', 'IS_HOLIDAY', 'MAX_DELAY', 'DELAY_VARIANCE', 'WEATHER_AND_CARRIER_DELAY', 'HISTORICAL_DELAY'] not in index\"",
     "output_type": "error",
     "traceback": [
      "\u001b[1;31m---------------------------------------------------------------------------\u001b[0m",
      "\u001b[1;31mKeyError\u001b[0m                                  Traceback (most recent call last)",
      "Cell \u001b[1;32mIn[3], line 87\u001b[0m\n\u001b[0;32m      4\u001b[0m test_combinations \u001b[38;5;241m=\u001b[39m [\n\u001b[0;32m      5\u001b[0m     \u001b[38;5;66;03m# Holiday Season Travel\u001b[39;00m\n\u001b[0;32m      6\u001b[0m     (\u001b[38;5;124m'\u001b[39m\u001b[38;5;124mAmerican Airlines Inc.\u001b[39m\u001b[38;5;124m'\u001b[39m, \u001b[38;5;124m'\u001b[39m\u001b[38;5;124m2024-12-23\u001b[39m\u001b[38;5;124m'\u001b[39m, \u001b[38;5;124m'\u001b[39m\u001b[38;5;124mDFW\u001b[39m\u001b[38;5;124m'\u001b[39m),  \u001b[38;5;66;03m# Christmas Dallas hub\u001b[39;00m\n\u001b[1;32m   (...)\u001b[0m\n\u001b[0;32m     83\u001b[0m     (\u001b[38;5;124m'\u001b[39m\u001b[38;5;124mUnited Air Lines Inc.\u001b[39m\u001b[38;5;124m'\u001b[39m, \u001b[38;5;124m'\u001b[39m\u001b[38;5;124m2024-01-31\u001b[39m\u001b[38;5;124m'\u001b[39m, \u001b[38;5;124m'\u001b[39m\u001b[38;5;124mBNA\u001b[39m\u001b[38;5;124m'\u001b[39m),  \u001b[38;5;66;03m# Nashville Winter\u001b[39;00m\n\u001b[0;32m     84\u001b[0m ]\n\u001b[0;32m     86\u001b[0m \u001b[38;5;28;01mfor\u001b[39;00m airline, date, origin \u001b[38;5;129;01min\u001b[39;00m test_combinations:\n\u001b[1;32m---> 87\u001b[0m     prediction \u001b[38;5;241m=\u001b[39m model_helper\u001b[38;5;241m.\u001b[39mpredict(airline, date, origin)\n\u001b[0;32m     88\u001b[0m     \u001b[38;5;28mprint\u001b[39m(\u001b[38;5;124mf\u001b[39m\u001b[38;5;124m\"\u001b[39m\u001b[38;5;124mAirline: \u001b[39m\u001b[38;5;132;01m{\u001b[39;00mairline\u001b[38;5;132;01m}\u001b[39;00m\u001b[38;5;124m, Date: \u001b[39m\u001b[38;5;132;01m{\u001b[39;00mdate\u001b[38;5;132;01m}\u001b[39;00m\u001b[38;5;124m, Origin: \u001b[39m\u001b[38;5;132;01m{\u001b[39;00morigin\u001b[38;5;132;01m}\u001b[39;00m\u001b[38;5;124m -> Prediction: \u001b[39m\u001b[38;5;132;01m{\u001b[39;00mprediction\u001b[38;5;132;01m}\u001b[39;00m\u001b[38;5;124m\"\u001b[39m)\n",
      "File \u001b[1;32mc:\\Projects\\homework\\Project-2\\src\\modelhelper.py:320\u001b[0m, in \u001b[0;36mModelHelper.predict\u001b[1;34m(self, airline, departure_date, origin)\u001b[0m\n\u001b[0;32m    318\u001b[0m \u001b[38;5;66;03m# Ensure feature order matches training data\u001b[39;00m\n\u001b[0;32m    319\u001b[0m \u001b[38;5;28;01mif\u001b[39;00m \u001b[38;5;28mhasattr\u001b[39m(\u001b[38;5;28mself\u001b[39m\u001b[38;5;241m.\u001b[39mmodel, \u001b[38;5;124m'\u001b[39m\u001b[38;5;124mfeature_names_in_\u001b[39m\u001b[38;5;124m'\u001b[39m):\n\u001b[1;32m--> 320\u001b[0m     input_data \u001b[38;5;241m=\u001b[39m input_data[\u001b[38;5;28mself\u001b[39m\u001b[38;5;241m.\u001b[39mmodel\u001b[38;5;241m.\u001b[39mfeature_names_in_]\n\u001b[0;32m    322\u001b[0m \u001b[38;5;66;03m# Encode categorical features\u001b[39;00m\n\u001b[0;32m    323\u001b[0m \u001b[38;5;28;01mfor\u001b[39;00m col \u001b[38;5;129;01min\u001b[39;00m [\u001b[38;5;124m'\u001b[39m\u001b[38;5;124mAIRLINE\u001b[39m\u001b[38;5;124m'\u001b[39m, \u001b[38;5;124m'\u001b[39m\u001b[38;5;124mORIGIN\u001b[39m\u001b[38;5;124m'\u001b[39m]:\n",
      "File \u001b[1;32mc:\\Users\\matth\\anaconda3\\Lib\\site-packages\\pandas\\core\\frame.py:4108\u001b[0m, in \u001b[0;36mDataFrame.__getitem__\u001b[1;34m(self, key)\u001b[0m\n\u001b[0;32m   4106\u001b[0m     \u001b[38;5;28;01mif\u001b[39;00m is_iterator(key):\n\u001b[0;32m   4107\u001b[0m         key \u001b[38;5;241m=\u001b[39m \u001b[38;5;28mlist\u001b[39m(key)\n\u001b[1;32m-> 4108\u001b[0m     indexer \u001b[38;5;241m=\u001b[39m \u001b[38;5;28mself\u001b[39m\u001b[38;5;241m.\u001b[39mcolumns\u001b[38;5;241m.\u001b[39m_get_indexer_strict(key, \u001b[38;5;124m\"\u001b[39m\u001b[38;5;124mcolumns\u001b[39m\u001b[38;5;124m\"\u001b[39m)[\u001b[38;5;241m1\u001b[39m]\n\u001b[0;32m   4110\u001b[0m \u001b[38;5;66;03m# take() does not accept boolean indexers\u001b[39;00m\n\u001b[0;32m   4111\u001b[0m \u001b[38;5;28;01mif\u001b[39;00m \u001b[38;5;28mgetattr\u001b[39m(indexer, \u001b[38;5;124m\"\u001b[39m\u001b[38;5;124mdtype\u001b[39m\u001b[38;5;124m\"\u001b[39m, \u001b[38;5;28;01mNone\u001b[39;00m) \u001b[38;5;241m==\u001b[39m \u001b[38;5;28mbool\u001b[39m:\n",
      "File \u001b[1;32mc:\\Users\\matth\\anaconda3\\Lib\\site-packages\\pandas\\core\\indexes\\base.py:6200\u001b[0m, in \u001b[0;36mIndex._get_indexer_strict\u001b[1;34m(self, key, axis_name)\u001b[0m\n\u001b[0;32m   6197\u001b[0m \u001b[38;5;28;01melse\u001b[39;00m:\n\u001b[0;32m   6198\u001b[0m     keyarr, indexer, new_indexer \u001b[38;5;241m=\u001b[39m \u001b[38;5;28mself\u001b[39m\u001b[38;5;241m.\u001b[39m_reindex_non_unique(keyarr)\n\u001b[1;32m-> 6200\u001b[0m \u001b[38;5;28mself\u001b[39m\u001b[38;5;241m.\u001b[39m_raise_if_missing(keyarr, indexer, axis_name)\n\u001b[0;32m   6202\u001b[0m keyarr \u001b[38;5;241m=\u001b[39m \u001b[38;5;28mself\u001b[39m\u001b[38;5;241m.\u001b[39mtake(indexer)\n\u001b[0;32m   6203\u001b[0m \u001b[38;5;28;01mif\u001b[39;00m \u001b[38;5;28misinstance\u001b[39m(key, Index):\n\u001b[0;32m   6204\u001b[0m     \u001b[38;5;66;03m# GH 42790 - Preserve name from an Index\u001b[39;00m\n",
      "File \u001b[1;32mc:\\Users\\matth\\anaconda3\\Lib\\site-packages\\pandas\\core\\indexes\\base.py:6252\u001b[0m, in \u001b[0;36mIndex._raise_if_missing\u001b[1;34m(self, key, indexer, axis_name)\u001b[0m\n\u001b[0;32m   6249\u001b[0m     \u001b[38;5;28;01mraise\u001b[39;00m \u001b[38;5;167;01mKeyError\u001b[39;00m(\u001b[38;5;124mf\u001b[39m\u001b[38;5;124m\"\u001b[39m\u001b[38;5;124mNone of [\u001b[39m\u001b[38;5;132;01m{\u001b[39;00mkey\u001b[38;5;132;01m}\u001b[39;00m\u001b[38;5;124m] are in the [\u001b[39m\u001b[38;5;132;01m{\u001b[39;00maxis_name\u001b[38;5;132;01m}\u001b[39;00m\u001b[38;5;124m]\u001b[39m\u001b[38;5;124m\"\u001b[39m)\n\u001b[0;32m   6251\u001b[0m not_found \u001b[38;5;241m=\u001b[39m \u001b[38;5;28mlist\u001b[39m(ensure_index(key)[missing_mask\u001b[38;5;241m.\u001b[39mnonzero()[\u001b[38;5;241m0\u001b[39m]]\u001b[38;5;241m.\u001b[39munique())\n\u001b[1;32m-> 6252\u001b[0m \u001b[38;5;28;01mraise\u001b[39;00m \u001b[38;5;167;01mKeyError\u001b[39;00m(\u001b[38;5;124mf\u001b[39m\u001b[38;5;124m\"\u001b[39m\u001b[38;5;132;01m{\u001b[39;00mnot_found\u001b[38;5;132;01m}\u001b[39;00m\u001b[38;5;124m not in index\u001b[39m\u001b[38;5;124m\"\u001b[39m)\n",
      "\u001b[1;31mKeyError\u001b[0m: \"['MONTH', 'DAY_OF_WEEK', 'IS_HOLIDAY', 'MAX_DELAY', 'DELAY_VARIANCE', 'WEATHER_AND_CARRIER_DELAY', 'HISTORICAL_DELAY'] not in index\""
     ]
    }
   ],
   "source": [
    "display(model)\n",
    "\n",
    "# Test different combinations\n",
    "test_combinations = [\n",
    "    # Holiday Season Travel\n",
    "    ('American Airlines Inc.', '2024-12-23', 'DFW'),  # Christmas Dallas hub\n",
    "    ('Delta Air Lines Inc.', '2024-12-22', 'ATL'),   # Christmas Atlanta hub\n",
    "    ('United Air Lines Inc.', '2024-12-24', 'ORD'),  # Christmas Eve Chicago\n",
    "    ('Southwest Airlines Co.', '2024-12-26', 'MDW'),  # Post-Christmas Chicago\n",
    "    ('JetBlue Airways', '2024-12-28', 'JFK'),        # New Year's NYC\n",
    "    \n",
    "    # Spring Festival Events\n",
    "    ('Southwest Airlines Co.', '2024-03-08', 'MSY'),  # Mardi Gras New Orleans\n",
    "    ('American Airlines Inc.', '2024-03-23', 'DCA'),  # Cherry Blossom DC\n",
    "    ('Delta Air Lines Inc.', '2024-04-19', 'AUS'),   # Austin Music Festival\n",
    "    ('United Air Lines Inc.', '2024-05-03', 'CVG'),  # Kentucky Derby\n",
    "    ('JetBlue Airways', '2024-05-15', 'SAN'),        # San Diego Spring Break\n",
    "    \n",
    "    # Summer Peak Travel\n",
    "    ('Alaska Airlines Inc.', '2024-07-03', 'ANC'),   # Alaska Summer Peak\n",
    "    ('Hawaiian Airlines Inc.', '2024-07-15', 'HNL'), # Hawaii Summer Peak\n",
    "    ('Spirit Air Lines', '2024-08-01', 'MCO'),       # Orlando Theme Parks\n",
    "    ('Frontier Airlines Inc.', '2024-08-15', 'LAS'), # Vegas Summer Heat\n",
    "    ('American Airlines Inc.', '2024-08-30', 'MIA'),  # Labor Day Miami\n",
    "    \n",
    "    # Business Routes\n",
    "    ('Delta Air Lines Inc.', '2024-09-16', 'SEA'),   # Seattle Tech Week\n",
    "    ('United Air Lines Inc.', '2024-09-23', 'SFO'),  # SF Business Week\n",
    "    ('American Airlines Inc.', '2024-10-01', 'BOS'),  # Boston Conference Season\n",
    "    ('JetBlue Airways', '2024-10-15', 'IAD'),        # DC Political Season\n",
    "    ('Southwest Airlines Co.', '2024-11-05', 'HOU'),  # Houston Energy Conference\n",
    "    \n",
    "    # Fall Sports Events\n",
    "    ('American Airlines Inc.', '2024-09-08', 'PHL'),  # NFL Opening Weekend\n",
    "    ('Delta Air Lines Inc.', '2024-10-25', 'STL'),   # World Series Potential\n",
    "    ('United Air Lines Inc.', '2024-11-28', 'DTW'),  # Thanksgiving Football\n",
    "    ('Southwest Airlines Co.', '2024-12-07', 'CLT'),  # College Football Playoff\n",
    "    \n",
    "    # Winter Weather Challenges\n",
    "    ('JetBlue Airways', '2024-01-20', 'BUF'),        # Buffalo Snow Season\n",
    "    ('United Air Lines Inc.', '2024-02-15', 'MSP'),  # Minneapolis Winter\n",
    "    ('American Airlines Inc.', '2024-02-01', 'BDL'),  # Hartford Winter\n",
    "    ('Delta Air Lines Inc.', '2024-01-10', 'PWM'),   # Portland ME Winter\n",
    "    ('Southwest Airlines Co.', '2024-02-20', 'MKE'),  # Milwaukee Winter\n",
    "\n",
    "    # Mid-January (Post-Holiday Lull)\n",
    "    ('Southwest Airlines Co.', '2024-01-16', 'MDW'),  # Chicago Off-Peak\n",
    "    ('Delta Air Lines Inc.', '2024-01-17', 'MSP'),   # Minnesota Quiet Period\n",
    "    ('American Airlines Inc.', '2024-01-18', 'DFW'),  # Dallas Winter Off-Peak\n",
    "    ('United Air Lines Inc.', '2024-01-22', 'EWR'),  # Newark Slow Period\n",
    "    ('JetBlue Airways', '2024-01-23', 'BOS'),        # Boston Winter Off-Peak\n",
    "\n",
    "    # Early February (Pre-Spring Break)\n",
    "    ('Alaska Airlines Inc.', '2024-02-06', 'SEA'),   # Seattle Winter Weekday\n",
    "    ('Spirit Air Lines', '2024-02-07', 'FLL'),       # Florida Off-Season\n",
    "    ('Frontier Airlines Inc.', '2024-02-08', 'DEN'),  # Denver Mid-Week\n",
    "    ('Hawaiian Airlines Inc.', '2024-02-13', 'HNL'),  # Hawaii Low Season\n",
    "    ('American Airlines Inc.', '2024-02-14', 'ORD'),  # Chicago Mid-Week\n",
    "\n",
    "    # Late September (Post-Summer)\n",
    "    ('Delta Air Lines Inc.', '2024-09-17', 'ATL'),   # Atlanta Tuesday\n",
    "    ('United Air Lines Inc.', '2024-09-18', 'IAH'),  # Houston Off-Peak\n",
    "    ('Southwest Airlines Co.', '2024-09-24', 'BWI'),  # Baltimore Mid-Week\n",
    "    ('JetBlue Airways', '2024-09-25', 'JFK'),        # NYC Quiet Period\n",
    "    ('American Airlines Inc.', '2024-09-26', 'PHX'),  # Phoenix Shoulder Season\n",
    "\n",
    "    # Early November (Pre-Holiday)\n",
    "    ('United Air Lines Inc.', '2024-11-12', 'SFO'),  # SF Tuesday\n",
    "    ('Delta Air Lines Inc.', '2024-11-13', 'DTW'),   # Detroit Off-Peak\n",
    "    ('Southwest Airlines Co.', '2024-11-14', 'MCI'),  # Kansas City Quiet\n",
    "    ('Alaska Airlines Inc.', '2024-11-19', 'PDX'),   # Portland Pre-Holiday\n",
    "    ('Spirit Air Lines', '2024-11-12', 'LGA'),       # NYC Tuesday\n",
    "\n",
    "    # Early December (Pre-Holiday Rush)\n",
    "    ('American Airlines Inc.', '2024-12-03', 'CLT'),  # Charlotte Tuesday\n",
    "    ('United Air Lines Inc.', '2024-12-04', 'DCA'),  # DC Mid-Week\n",
    "    ('Delta Air Lines Inc.', '2024-12-10', 'SLC'),   # Salt Lake City Tuesday\n",
    "    ('JetBlue Airways', '2024-12-11', 'TPA'),        # Tampa Off-Peak\n",
    "\n",
    "    # Late January (Deep Winter)\n",
    "    ('Southwest Airlines Co.', '2024-01-29', 'PIT'),  # Pittsburgh Winter\n",
    "    ('American Airlines Inc.', '2024-01-30', 'CLE'),  # Cleveland Off-Peak\n",
    "    ('United Air Lines Inc.', '2024-01-31', 'BNA'),  # Nashville Winter\n",
    "]\n",
    "\n",
    "for airline, date, origin in test_combinations:\n",
    "    prediction = model_helper.predict(airline, date, origin)\n",
    "    print(f\"Airline: {airline}, Date: {date}, Origin: {origin} -> Prediction: {prediction}\")"
   ]
  }
 ],
 "metadata": {
  "kernelspec": {
   "display_name": "base",
   "language": "python",
   "name": "python3"
  },
  "language_info": {
   "codemirror_mode": {
    "name": "ipython",
    "version": 3
   },
   "file_extension": ".py",
   "mimetype": "text/x-python",
   "name": "python",
   "nbconvert_exporter": "python",
   "pygments_lexer": "ipython3",
   "version": "3.12.7"
  }
 },
 "nbformat": 4,
 "nbformat_minor": 2
}
