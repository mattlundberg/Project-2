{
 "cells": [
  {
   "cell_type": "markdown",
   "metadata": {},
   "source": [
    "# Matt's Code Playground"
   ]
  },
  {
   "cell_type": "code",
   "execution_count": 1,
   "metadata": {},
   "outputs": [],
   "source": [
    "# Standard library imports\n",
    "import os\n",
    "import sys\n",
    "\n",
    "# Data manipulation and analysis\n",
    "import numpy as np\n",
    "import pandas as pd\n",
    "\n",
    "# Custom helper classes\n",
    "from modelhelper import ModelHelper\n",
    "model_helper = ModelHelper()"
   ]
  },
  {
   "cell_type": "code",
   "execution_count": 2,
   "metadata": {},
   "outputs": [
    {
     "name": "stderr",
     "output_type": "stream",
     "text": [
      "INFO:modelhelper:Starting flight delay model training process...\n",
      "INFO:modelhelper:Step 1: Fetching and preparing the dataset...\n",
      "INFO:modelhelper:Using original saved flight dataset\n",
      "INFO:modelhelper:Using saved flight dataset\n",
      "INFO:modelhelper:Dataset shape: (3516114, 7)\n",
      "INFO:modelhelper:Step 2: Preparing features and target...\n",
      "INFO:modelhelper:Features being used: ['AIRLINE', 'ORIGIN', 'DAY_OF_YEAR', 'TOTAL_DELAY', 'DELAY_VARIANCE', 'HISTORICAL_DELAY']\n",
      "INFO:modelhelper:Step 3: Splitting data into train/test sets (test_size=0.2)...\n",
      "INFO:modelhelper:Training set shape: (2812891, 6)\n",
      "INFO:modelhelper:Test set shape: (703223, 6)\n",
      "INFO:modelhelper:Step 4: Preprocessing features...\n",
      "INFO:modelhelper:Step 5: Training random_forest model...\n",
      "INFO:modelhelper:Model successfully loaded from models\\random_forest_flight_delay_model.pkl\n",
      "INFO:modelhelper:Model random_forest already trained and loaded. Using the loaded model...\n",
      "INFO:modelhelper:Step 6: Evaluating model performance...\n",
      "INFO:modelhelper:\n",
      "Model Evaluation Results:\n",
      "INFO:modelhelper:Accuracy: 0.7708\n",
      "INFO:modelhelper:Precision: 0.7877\n",
      "INFO:modelhelper:Recall: 0.7708\n",
      "INFO:modelhelper:F1: 0.7749\n",
      "INFO:modelhelper:Step 7: Saving the trained model as 'random_forest_flight_delay_model.pkl'...\n",
      "INFO:modelhelper:Model successfully saved to models\\random_forest_flight_delay_model.pkl\n",
      "INFO:modelhelper:\n",
      "Model training process completed successfully!\n"
     ]
    }
   ],
   "source": [
    "model = model_helper.train_flight_delay_model('random_forest')"
   ]
  },
  {
   "cell_type": "code",
   "execution_count": 3,
   "metadata": {},
   "outputs": [
    {
     "data": {
      "text/plain": [
       "(RandomForestClassifier(class_weight='balanced_subsample', max_depth=10,\n",
       "                        min_samples_leaf=20, min_samples_split=50,\n",
       "                        n_estimators=200, n_jobs=-1, oob_score=True,\n",
       "                        random_state=32),\n",
       " {'accuracy': 0.7707796815519401,\n",
       "  'precision': 0.7877001806991136,\n",
       "  'recall': 0.7707796815519401,\n",
       "  'f1': 0.7748977781464175})"
      ]
     },
     "metadata": {},
     "output_type": "display_data"
    },
    {
     "name": "stderr",
     "output_type": "stream",
     "text": [
      "INFO:modelhelper:Airline: American Airlines Inc., Airport: DFW, Total delay: 17.704347826086956\n"
     ]
    },
    {
     "name": "stdout",
     "output_type": "stream",
     "text": [
      "Airline: American Airlines Inc., Date: 2024-12-23, Origin: DFW -> Prediction: Delayed\n",
      "Probabilities: Delayed: 45.14%, Early: 22.99%, On Time: 31.87%\n"
     ]
    },
    {
     "name": "stderr",
     "output_type": "stream",
     "text": [
      "INFO:modelhelper:Airline: Delta Air Lines Inc., Airport: ATL, Total delay: 13.839344262295082\n"
     ]
    },
    {
     "name": "stdout",
     "output_type": "stream",
     "text": [
      "Airline: Delta Air Lines Inc., Date: 2024-12-22, Origin: ATL -> Prediction: Delayed\n",
      "Probabilities: Delayed: 45.16%, Early: 23.38%, On Time: 31.46%\n"
     ]
    },
    {
     "name": "stderr",
     "output_type": "stream",
     "text": [
      "INFO:modelhelper:Airline: United Air Lines Inc., Airport: ORD, Total delay: 27.585714285714282\n"
     ]
    },
    {
     "name": "stdout",
     "output_type": "stream",
     "text": [
      "Airline: United Air Lines Inc., Date: 2024-12-24, Origin: ORD -> Prediction: Delayed\n",
      "Probabilities: Delayed: 45.14%, Early: 22.99%, On Time: 31.87%\n"
     ]
    },
    {
     "name": "stderr",
     "output_type": "stream",
     "text": [
      "INFO:modelhelper:Airline: Southwest Airlines Co., Airport: MDW, Total delay: 16.39230769230769\n"
     ]
    },
    {
     "name": "stdout",
     "output_type": "stream",
     "text": [
      "Airline: Southwest Airlines Co., Date: 2024-12-26, Origin: MDW -> Prediction: Delayed\n",
      "Probabilities: Delayed: 45.16%, Early: 23.44%, On Time: 31.39%\n"
     ]
    },
    {
     "name": "stderr",
     "output_type": "stream",
     "text": [
      "INFO:modelhelper:Airline: JetBlue Airways, Airport: JFK, Total delay: 12.15\n"
     ]
    },
    {
     "name": "stdout",
     "output_type": "stream",
     "text": [
      "Airline: JetBlue Airways, Date: 2024-12-28, Origin: JFK -> Prediction: Delayed\n",
      "Probabilities: Delayed: 45.14%, Early: 22.99%, On Time: 31.87%\n"
     ]
    }
   ],
   "source": [
    "display(model)\n",
    "\n",
    "# Test different combinations\n",
    "test_combinations = [\n",
    "    # Holiday Season Travel\n",
    "    ('American Airlines Inc.', '2024-12-23', 'DFW'),  # Christmas Dallas hub\n",
    "    ('Delta Air Lines Inc.', '2024-12-22', 'ATL'),   # Christmas Atlanta hub\n",
    "    ('United Air Lines Inc.', '2024-12-24', 'ORD'),  # Christmas Eve Chicago\n",
    "    ('Southwest Airlines Co.', '2024-12-26', 'MDW'),  # Post-Christmas Chicago\n",
    "    ('JetBlue Airways', '2024-12-28', 'JFK'),        # New Year's NYC\n",
    "    \n",
    "    # Spring Festival Events\n",
    "    ('Southwest Airlines Co.', '2024-03-08', 'MSY'),  # Mardi Gras New Orleans\n",
    "    ('American Airlines Inc.', '2024-03-23', 'DCA'),  # Cherry Blossom DC\n",
    "    ('Delta Air Lines Inc.', '2024-04-19', 'AUS'),   # Austin Music Festival\n",
    "    ('United Air Lines Inc.', '2024-05-03', 'CVG'),  # Kentucky Derby\n",
    "    ('JetBlue Airways', '2024-05-15', 'SAN'),        # San Diego Spring Break\n",
    "    \n",
    "    # Summer Peak Travel\n",
    "    ('Alaska Airlines Inc.', '2024-07-03', 'ANC'),   # Alaska Summer Peak\n",
    "    ('Hawaiian Airlines Inc.', '2024-07-15', 'HNL'), # Hawaii Summer Peak\n",
    "    ('Spirit Air Lines', '2024-08-01', 'MCO'),       # Orlando Theme Parks\n",
    "    ('Frontier Airlines Inc.', '2024-08-15', 'LAS'), # Vegas Summer Heat\n",
    "    ('American Airlines Inc.', '2024-08-30', 'MIA'),  # Labor Day Miami\n",
    "    \n",
    "    # Business Routes\n",
    "    ('Delta Air Lines Inc.', '2024-09-16', 'SEA'),   # Seattle Tech Week\n",
    "    ('United Air Lines Inc.', '2024-09-23', 'SFO'),  # SF Business Week\n",
    "    ('American Airlines Inc.', '2024-10-01', 'BOS'),  # Boston Conference Season\n",
    "    ('JetBlue Airways', '2024-10-15', 'IAD'),        # DC Political Season\n",
    "    ('Southwest Airlines Co.', '2024-11-05', 'HOU'),  # Houston Energy Conference\n",
    "    \n",
    "    # Fall Sports Events\n",
    "    ('American Airlines Inc.', '2024-09-08', 'PHL'),  # NFL Opening Weekend\n",
    "    ('Delta Air Lines Inc.', '2024-10-25', 'STL'),   # World Series Potential\n",
    "    ('United Air Lines Inc.', '2024-11-28', 'DTW'),  # Thanksgiving Football\n",
    "    ('Southwest Airlines Co.', '2024-12-07', 'CLT'),  # College Football Playoff\n",
    "    \n",
    "    # Winter Weather Challenges\n",
    "    ('JetBlue Airways', '2024-01-20', 'BUF'),        # Buffalo Snow Season\n",
    "    ('United Air Lines Inc.', '2024-02-15', 'MSP'),  # Minneapolis Winter\n",
    "    ('American Airlines Inc.', '2024-02-01', 'BDL'),  # Hartford Winter\n",
    "    ('Delta Air Lines Inc.', '2024-01-10', 'PWM'),   # Portland ME Winter\n",
    "    ('Southwest Airlines Co.', '2024-02-20', 'MKE'),  # Milwaukee Winter\n",
    "\n",
    "    # Mid-January (Post-Holiday Lull)\n",
    "    ('Southwest Airlines Co.', '2024-01-16', 'MDW'),  # Chicago Off-Peak\n",
    "    ('Delta Air Lines Inc.', '2024-01-17', 'MSP'),   # Minnesota Quiet Period\n",
    "    ('American Airlines Inc.', '2024-01-18', 'DFW'),  # Dallas Winter Off-Peak\n",
    "    ('United Air Lines Inc.', '2024-01-22', 'EWR'),  # Newark Slow Period\n",
    "    ('JetBlue Airways', '2024-01-23', 'BOS'),        # Boston Winter Off-Peak\n",
    "\n",
    "    # Early February (Pre-Spring Break)\n",
    "    ('Alaska Airlines Inc.', '2024-02-06', 'SEA'),   # Seattle Winter Weekday\n",
    "    ('Spirit Air Lines', '2024-02-07', 'FLL'),       # Florida Off-Season\n",
    "    ('Frontier Airlines Inc.', '2024-02-08', 'DEN'),  # Denver Mid-Week\n",
    "    ('Hawaiian Airlines Inc.', '2024-02-13', 'HNL'),  # Hawaii Low Season\n",
    "    ('American Airlines Inc.', '2024-02-14', 'ORD'),  # Chicago Mid-Week\n",
    "\n",
    "    # Late September (Post-Summer)\n",
    "    ('Delta Air Lines Inc.', '2024-09-17', 'ATL'),   # Atlanta Tuesday\n",
    "    ('United Air Lines Inc.', '2024-09-18', 'IAH'),  # Houston Off-Peak\n",
    "    ('Southwest Airlines Co.', '2024-09-24', 'BWI'),  # Baltimore Mid-Week\n",
    "    ('JetBlue Airways', '2024-09-25', 'JFK'),        # NYC Quiet Period\n",
    "    ('American Airlines Inc.', '2024-09-26', 'PHX'),  # Phoenix Shoulder Season\n",
    "\n",
    "    # Early November (Pre-Holiday)\n",
    "    ('United Air Lines Inc.', '2024-11-12', 'SFO'),  # SF Tuesday\n",
    "    ('Delta Air Lines Inc.', '2024-11-13', 'DTW'),   # Detroit Off-Peak\n",
    "    ('Southwest Airlines Co.', '2024-11-14', 'MCI'),  # Kansas City Quiet\n",
    "    ('Alaska Airlines Inc.', '2024-11-19', 'PDX'),   # Portland Pre-Holiday\n",
    "    ('Spirit Air Lines', '2024-11-12', 'LGA'),       # NYC Tuesday\n",
    "\n",
    "    # Early December (Pre-Holiday Rush)\n",
    "    ('American Airlines Inc.', '2024-12-03', 'CLT'),  # Charlotte Tuesday\n",
    "    ('United Air Lines Inc.', '2024-12-04', 'DCA'),  # DC Mid-Week\n",
    "    ('Delta Air Lines Inc.', '2024-12-10', 'SLC'),   # Salt Lake City Tuesday\n",
    "    ('JetBlue Airways', '2024-12-11', 'TPA'),        # Tampa Off-Peak\n",
    "\n",
    "    # Late January (Deep Winter)\n",
    "    ('Southwest Airlines Co.', '2024-01-29', 'PIT'),  # Pittsburgh Winter\n",
    "    ('American Airlines Inc.', '2024-01-30', 'CLE'),  # Cleveland Off-Peak\n",
    "    ('United Air Lines Inc.', '2024-01-31', 'BNA'),  # Nashville Winter\n",
    "]\n",
    "\n",
    "for airline, date, origin in test_combinations:\n",
    "    result = model_helper.predict(airline, date, origin)\n",
    "    print(f\"Airline: {airline}, Date: {date}, Origin: {origin} -> Prediction: {result['prediction']}\")\n",
    "    print(f\"Probabilities: {result['probabilities']}\")\n"
   ]
  }
 ],
 "metadata": {
  "kernelspec": {
   "display_name": "base",
   "language": "python",
   "name": "python3"
  },
  "language_info": {
   "codemirror_mode": {
    "name": "ipython",
    "version": 3
   },
   "file_extension": ".py",
   "mimetype": "text/x-python",
   "name": "python",
   "nbconvert_exporter": "python",
   "pygments_lexer": "ipython3",
   "version": "3.12.7"
  }
 },
 "nbformat": 4,
 "nbformat_minor": 2
}
