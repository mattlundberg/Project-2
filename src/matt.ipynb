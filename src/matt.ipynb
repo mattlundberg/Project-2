{
 "cells": [
  {
   "cell_type": "markdown",
   "metadata": {},
   "source": [
    "# Matt's Code Playground"
   ]
  },
  {
   "cell_type": "code",
   "execution_count": 1,
   "metadata": {},
   "outputs": [],
   "source": [
    "# Standard library imports\n",
    "import os\n",
    "import sys\n",
    "\n",
    "# Data manipulation and analysis\n",
    "import numpy as np\n",
    "import pandas as pd\n",
    "\n",
    "# Custom helper classes\n",
    "from modelhelper import ModelHelper\n",
    "from helperclasses import DataFetcherKAGGLE, DataFrameHelper\n",
    "\n",
    "data_fetcher = DataFetcherKAGGLE()\n",
    "data_frame_helper = DataFrameHelper()\n",
    "model_helper = ModelHelper()"
   ]
  },
  {
   "cell_type": "code",
   "execution_count": 2,
   "metadata": {},
   "outputs": [
    {
     "name": "stdout",
     "output_type": "stream",
     "text": [
      "Fetching flight dataset from Kaggle...\n",
      "Preparing flight dataset...\n",
      "Optimizing flight dataset data types...\n",
      "Performing feature engineering...\n",
      "Handling class imbalance...\n"
     ]
    }
   ],
   "source": [
    "flight_data = data_fetcher.fetch_flight_dataset()"
   ]
  },
  {
   "cell_type": "code",
   "execution_count": 3,
   "metadata": {},
   "outputs": [
    {
     "name": "stdout",
     "output_type": "stream",
     "text": [
      "<class 'pandas.core.frame.DataFrame'>\n",
      "Index: 1755402 entries, 1 to 1069826\n",
      "Data columns (total 6 columns):\n",
      " #   Column          Dtype   \n",
      "---  ------          -----   \n",
      " 0   AIRLINE         category\n",
      " 1   ORIGIN          category\n",
      " 2   DEP_DELAY       float64 \n",
      " 3   DAY_OF_WEEK     int32   \n",
      " 4   DELAY_CATEGORY  category\n",
      " 5   TOTAL_DELAY     float64 \n",
      "dtypes: category(3), float64(2), int32(1)\n",
      "memory usage: 53.6 MB\n"
     ]
    },
    {
     "data": {
      "text/plain": [
       "None"
      ]
     },
     "metadata": {},
     "output_type": "display_data"
    }
   ],
   "source": [
    "display(flight_data.info())\n",
    "\n",
    "flight_data = flight_data.dropna()"
   ]
  },
  {
   "cell_type": "code",
   "execution_count": 4,
   "metadata": {},
   "outputs": [
    {
     "name": "stderr",
     "output_type": "stream",
     "text": [
      "INFO:modelhelper:Removed 1517643 duplicate rows\n"
     ]
    },
    {
     "name": "stdout",
     "output_type": "stream",
     "text": [
      "Index(['AIRLINE', 'ORIGIN'], dtype='object')\n",
      "Index(['DEP_DELAY', 'DAY_OF_WEEK', 'TOTAL_DELAY'], dtype='object')\n"
     ]
    }
   ],
   "source": [
    "X_train, X_test, y_train, y_test = model_helper.prepare_data(flight_data, 'DELAY_CATEGORY')"
   ]
  },
  {
   "cell_type": "code",
   "execution_count": 5,
   "metadata": {},
   "outputs": [
    {
     "name": "stderr",
     "output_type": "stream",
     "text": [
      "c:\\Users\\matth\\anaconda3\\Lib\\site-packages\\sklearn\\linear_model\\_logistic.py:1247: FutureWarning: 'multi_class' was deprecated in version 1.5 and will be removed in 1.7. From then on, it will always use 'multinomial'. Leave it to its default value to avoid this warning.\n",
      "  warnings.warn(\n"
     ]
    }
   ],
   "source": [
    "model2 = model_helper.train_model(X_train, y_train, 'logistic_regression', 'classification')"
   ]
  },
  {
   "cell_type": "code",
   "execution_count": 6,
   "metadata": {},
   "outputs": [
    {
     "name": "stderr",
     "output_type": "stream",
     "text": [
      "INFO:modelhelper:Model successfully saved to models\\logistic_regression.pkl\n"
     ]
    }
   ],
   "source": [
    "model_helper.save_model(model2, 'logistic_regression.pkl')"
   ]
  },
  {
   "cell_type": "code",
   "execution_count": 7,
   "metadata": {},
   "outputs": [
    {
     "name": "stderr",
     "output_type": "stream",
     "text": [
      "c:\\Users\\matth\\anaconda3\\Lib\\site-packages\\sklearn\\base.py:486: UserWarning: X has feature names, but LogisticRegression was fitted without feature names\n",
      "  warnings.warn(\n"
     ]
    },
    {
     "data": {
      "text/plain": [
       "{'accuracy': 0.8859564266487214,\n",
       " 'precision': 0.9306013029875644,\n",
       " 'recall': 0.8859564266487214,\n",
       " 'f1': 0.9033959509452968}"
      ]
     },
     "execution_count": 7,
     "metadata": {},
     "output_type": "execute_result"
    }
   ],
   "source": [
    "model_helper.evaluate_model(model2, X_test, y_test, 'classification')"
   ]
  },
  {
   "cell_type": "code",
   "execution_count": 8,
   "metadata": {},
   "outputs": [
    {
     "name": "stderr",
     "output_type": "stream",
     "text": [
      "c:\\Users\\matth\\anaconda3\\Lib\\site-packages\\sklearn\\base.py:486: UserWarning: X has feature names, but LogisticRegression was fitted without feature names\n",
      "  warnings.warn(\n"
     ]
    },
    {
     "data": {
      "text/plain": [
       "'Delayed'"
      ]
     },
     "execution_count": 8,
     "metadata": {},
     "output_type": "execute_result"
    }
   ],
   "source": [
    "model_helper.predict(model=model2, airline='Southwest Airlines Co.', departure_date='2025-03-01', origin='ATL')"
   ]
  }
 ],
 "metadata": {
  "kernelspec": {
   "display_name": "base",
   "language": "python",
   "name": "python3"
  },
  "language_info": {
   "codemirror_mode": {
    "name": "ipython",
    "version": 3
   },
   "file_extension": ".py",
   "mimetype": "text/x-python",
   "name": "python",
   "nbconvert_exporter": "python",
   "pygments_lexer": "ipython3",
   "version": "3.12.7"
  }
 },
 "nbformat": 4,
 "nbformat_minor": 2
}
