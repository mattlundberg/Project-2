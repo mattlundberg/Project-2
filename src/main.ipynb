{
 "cells": [
  {
   "cell_type": "markdown",
   "metadata": {},
   "source": [
    "# Main Project File\n",
    "This is the main file for the project. It contains the core analysis and model development workflow.\n"
   ]
  },
  {
   "cell_type": "code",
   "execution_count": 1,
   "metadata": {},
   "outputs": [],
   "source": [
    "import pandas as pd\n",
    "import numpy as np\n",
    "import matplotlib.pyplot as plt\n",
    "from modelhelper import ModelHelper\n",
    "from helperclasses import DataFetcherAPI, DataFetcherCurl\n",
    "from sklearn.preprocessing import StandardScaler, MinMaxScaler, LabelEncoder\n",
    "from sklearn.model_selection import train_test_split\n",
    "from sklearn.impute import SimpleImputer\n",
    "from sklearn.ensemble import RandomForestClassifier, RandomForestRegressor\n",
    "from sklearn.linear_model import LogisticRegression, LinearRegression\n",
    "from sklearn.svm import SVC, SVR\n",
    "from sklearn.metrics import accuracy_score, mean_squared_error, r2_score"
   ]
  },
  {
   "cell_type": "code",
   "execution_count": 3,
   "metadata": {},
   "outputs": [
    {
     "name": "stderr",
     "output_type": "stream",
     "text": [
      "cURL command failed, attempt 1/3: Command '['curl', '-L', '-o', '~/Downloads/flight-delay-and-cancellation-dataset-2019-2023.zip', 'https://www.kaggle.com/api/v1/datasets/download/patrickzel/flight-delay-and-cancellation-dataset-2019-2023']' returned non-zero exit status 23.\n",
      "cURL command failed, attempt 2/3: Command '['curl', '-L', '-o', '~/Downloads/flight-delay-and-cancellation-dataset-2019-2023.zip', 'https://www.kaggle.com/api/v1/datasets/download/patrickzel/flight-delay-and-cancellation-dataset-2019-2023']' returned non-zero exit status 23.\n",
      "cURL command failed, attempt 3/3: Command '['curl', '-L', '-o', '~/Downloads/flight-delay-and-cancellation-dataset-2019-2023.zip', 'https://www.kaggle.com/api/v1/datasets/download/patrickzel/flight-delay-and-cancellation-dataset-2019-2023']' returned non-zero exit status 23.\n",
      "cURL command failed after 3 attempts: Command '['curl', '-L', '-o', '~/Downloads/flight-delay-and-cancellation-dataset-2019-2023.zip', 'https://www.kaggle.com/api/v1/datasets/download/patrickzel/flight-delay-and-cancellation-dataset-2019-2023']' returned non-zero exit status 23.\n",
      "Failed to fetch data: Command '['curl', '-L', '-o', '~/Downloads/flight-delay-and-cancellation-dataset-2019-2023.zip', 'https://www.kaggle.com/api/v1/datasets/download/patrickzel/flight-delay-and-cancellation-dataset-2019-2023']' returned non-zero exit status 23.\n"
     ]
    },
    {
     "ename": "CalledProcessError",
     "evalue": "Command '['curl', '-L', '-o', '~/Downloads/flight-delay-and-cancellation-dataset-2019-2023.zip', 'https://www.kaggle.com/api/v1/datasets/download/patrickzel/flight-delay-and-cancellation-dataset-2019-2023']' returned non-zero exit status 23.",
     "output_type": "error",
     "traceback": [
      "\u001b[1;31m---------------------------------------------------------------------------\u001b[0m",
      "\u001b[1;31mCalledProcessError\u001b[0m                        Traceback (most recent call last)",
      "Cell \u001b[1;32mIn[3], line 7\u001b[0m\n\u001b[0;32m      5\u001b[0m \u001b[38;5;66;03m# Fetch data using curl command\u001b[39;00m\n\u001b[0;32m      6\u001b[0m curl_command \u001b[38;5;241m=\u001b[39m \u001b[38;5;124m'\u001b[39m\u001b[38;5;124mcurl -L -o ~/Downloads/flight-delay-and-cancellation-dataset-2019-2023.zip https://www.kaggle.com/api/v1/datasets/download/patrickzel/flight-delay-and-cancellation-dataset-2019-2023\u001b[39m\u001b[38;5;124m'\u001b[39m\n\u001b[1;32m----> 7\u001b[0m flight_data \u001b[38;5;241m=\u001b[39m fetcher\u001b[38;5;241m.\u001b[39mfetch_data(curl_command)\n\u001b[0;32m     10\u001b[0m \u001b[38;5;66;03m#Initialze new modelhelper object\u001b[39;00m\n\u001b[0;32m     11\u001b[0m model_helper \u001b[38;5;241m=\u001b[39m ModelHelper()\n",
      "File \u001b[1;32mc:\\Projects\\homework\\Project-2\\src\\helperclasses.py:385\u001b[0m, in \u001b[0;36mDataFetcherCurl.fetch_data\u001b[1;34m(self, curl_command, output_format, output_file)\u001b[0m\n\u001b[0;32m    372\u001b[0m \u001b[38;5;250m\u001b[39m\u001b[38;5;124;03m\"\"\"\u001b[39;00m\n\u001b[0;32m    373\u001b[0m \u001b[38;5;124;03mFetch data using a cURL command and return it in the specified format.\u001b[39;00m\n\u001b[0;32m    374\u001b[0m \u001b[38;5;124;03m\u001b[39;00m\n\u001b[1;32m   (...)\u001b[0m\n\u001b[0;32m    381\u001b[0m \u001b[38;5;124;03m    Union[pd.DataFrame, Dict, List]: Response data in specified format\u001b[39;00m\n\u001b[0;32m    382\u001b[0m \u001b[38;5;124;03m\"\"\"\u001b[39;00m\n\u001b[0;32m    383\u001b[0m \u001b[38;5;28;01mtry\u001b[39;00m:\n\u001b[0;32m    384\u001b[0m     \u001b[38;5;66;03m# Execute cURL command\u001b[39;00m\n\u001b[1;32m--> 385\u001b[0m     response \u001b[38;5;241m=\u001b[39m \u001b[38;5;28mself\u001b[39m\u001b[38;5;241m.\u001b[39m_execute_curl(curl_command)\n\u001b[0;32m    387\u001b[0m     \u001b[38;5;66;03m# Parse response based on format\u001b[39;00m\n\u001b[0;32m    388\u001b[0m     \u001b[38;5;28;01mif\u001b[39;00m output_format \u001b[38;5;241m==\u001b[39m \u001b[38;5;124m'\u001b[39m\u001b[38;5;124mjson\u001b[39m\u001b[38;5;124m'\u001b[39m:\n",
      "File \u001b[1;32mc:\\Projects\\homework\\Project-2\\src\\helperclasses.py:347\u001b[0m, in \u001b[0;36mDataFetcherCurl._execute_curl\u001b[1;34m(self, curl_command)\u001b[0m\n\u001b[0;32m    345\u001b[0m \u001b[38;5;28;01mfor\u001b[39;00m attempt \u001b[38;5;129;01min\u001b[39;00m \u001b[38;5;28mrange\u001b[39m(\u001b[38;5;28mself\u001b[39m\u001b[38;5;241m.\u001b[39mretry_attempts):\n\u001b[0;32m    346\u001b[0m     \u001b[38;5;28;01mtry\u001b[39;00m:\n\u001b[1;32m--> 347\u001b[0m         result \u001b[38;5;241m=\u001b[39m subprocess\u001b[38;5;241m.\u001b[39mrun(\n\u001b[0;32m    348\u001b[0m             command_list,\n\u001b[0;32m    349\u001b[0m             capture_output\u001b[38;5;241m=\u001b[39m\u001b[38;5;28;01mTrue\u001b[39;00m,\n\u001b[0;32m    350\u001b[0m             text\u001b[38;5;241m=\u001b[39m\u001b[38;5;28;01mTrue\u001b[39;00m,\n\u001b[0;32m    351\u001b[0m             check\u001b[38;5;241m=\u001b[39m\u001b[38;5;28;01mTrue\u001b[39;00m\n\u001b[0;32m    352\u001b[0m         )\n\u001b[0;32m    354\u001b[0m         \u001b[38;5;66;03m# Update rate limiting tracking\u001b[39;00m\n\u001b[0;32m    355\u001b[0m         \u001b[38;5;28mself\u001b[39m\u001b[38;5;241m.\u001b[39m_update_rate_limit_tracking()\n",
      "File \u001b[1;32mc:\\Users\\matth\\anaconda3\\Lib\\subprocess.py:571\u001b[0m, in \u001b[0;36mrun\u001b[1;34m(input, capture_output, timeout, check, *popenargs, **kwargs)\u001b[0m\n\u001b[0;32m    569\u001b[0m     retcode \u001b[38;5;241m=\u001b[39m process\u001b[38;5;241m.\u001b[39mpoll()\n\u001b[0;32m    570\u001b[0m     \u001b[38;5;28;01mif\u001b[39;00m check \u001b[38;5;129;01mand\u001b[39;00m retcode:\n\u001b[1;32m--> 571\u001b[0m         \u001b[38;5;28;01mraise\u001b[39;00m CalledProcessError(retcode, process\u001b[38;5;241m.\u001b[39margs,\n\u001b[0;32m    572\u001b[0m                                  output\u001b[38;5;241m=\u001b[39mstdout, stderr\u001b[38;5;241m=\u001b[39mstderr)\n\u001b[0;32m    573\u001b[0m \u001b[38;5;28;01mreturn\u001b[39;00m CompletedProcess(process\u001b[38;5;241m.\u001b[39margs, retcode, stdout, stderr)\n",
      "\u001b[1;31mCalledProcessError\u001b[0m: Command '['curl', '-L', '-o', '~/Downloads/flight-delay-and-cancellation-dataset-2019-2023.zip', 'https://www.kaggle.com/api/v1/datasets/download/patrickzel/flight-delay-and-cancellation-dataset-2019-2023']' returned non-zero exit status 23."
     ]
    }
   ],
   "source": [
    "#Import the data and put it into a dataframe\n",
    "# Initialize DataFetcherCurl\n",
    "fetcher = DataFetcherCurl()\n",
    "\n",
    "# Fetch data using curl command\n",
    "curl_command = 'curl -L -o ~/Downloads/flight-delay-and-cancellation-dataset-2019-2023.zip https://www.kaggle.com/api/v1/datasets/download/patrickzel/flight-delay-and-cancellation-dataset-2019-2023'\n",
    "flight_data = fetcher.fetch_data(curl_command)\n",
    "\n",
    "\n",
    "#Initialze new modelhelper object\n",
    "model_helper = ModelHelper()\n",
    "\n",
    "#Identify Target Column\n",
    "target_column = 'target'"
   ]
  },
  {
   "cell_type": "code",
   "execution_count": null,
   "metadata": {},
   "outputs": [],
   "source": [
    "#Clean the data\n",
    "flight_data"
   ]
  }
 ],
 "metadata": {
  "kernelspec": {
   "display_name": "base",
   "language": "python",
   "name": "python3"
  },
  "language_info": {
   "codemirror_mode": {
    "name": "ipython",
    "version": 3
   },
   "file_extension": ".py",
   "mimetype": "text/x-python",
   "name": "python",
   "nbconvert_exporter": "python",
   "pygments_lexer": "ipython3",
   "version": "3.12.7"
  }
 },
 "nbformat": 4,
 "nbformat_minor": 2
}
